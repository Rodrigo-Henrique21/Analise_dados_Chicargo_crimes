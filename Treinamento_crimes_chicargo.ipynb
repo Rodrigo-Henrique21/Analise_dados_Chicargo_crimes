{
 "cells": [
  {
   "cell_type": "code",
   "execution_count": 2,
   "id": "cca9ecd2",
   "metadata": {},
   "outputs": [],
   "source": [
    "import pandas as pd \n",
    "import os \n",
    "import numpy as np "
   ]
  },
  {
   "cell_type": "code",
   "execution_count": 7,
   "id": "13579898",
   "metadata": {},
   "outputs": [],
   "source": [
    "df = pd.read_csv(r'C:\\Users\\Rodrigo Correa\\Desktop\\Treino\\CrimeDate.csv' , encoding = \"UTF-8\",sep = \",\")"
   ]
  },
  {
   "cell_type": "code",
   "execution_count": 8,
   "id": "1e07175a",
   "metadata": {},
   "outputs": [
    {
     "data": {
      "text/html": [
       "<div>\n",
       "<style scoped>\n",
       "    .dataframe tbody tr th:only-of-type {\n",
       "        vertical-align: middle;\n",
       "    }\n",
       "\n",
       "    .dataframe tbody tr th {\n",
       "        vertical-align: top;\n",
       "    }\n",
       "\n",
       "    .dataframe thead th {\n",
       "        text-align: right;\n",
       "    }\n",
       "</style>\n",
       "<table border=\"1\" class=\"dataframe\">\n",
       "  <thead>\n",
       "    <tr style=\"text-align: right;\">\n",
       "      <th></th>\n",
       "      <th>date</th>\n",
       "      <th>primary_type</th>\n",
       "      <th>crime_count</th>\n",
       "      <th>arrest_count</th>\n",
       "      <th>false_count</th>\n",
       "    </tr>\n",
       "  </thead>\n",
       "  <tbody>\n",
       "    <tr>\n",
       "      <th>0</th>\n",
       "      <td>2001-01-01</td>\n",
       "      <td>MOTOR VEHICLE THEFT</td>\n",
       "      <td>59</td>\n",
       "      <td>9</td>\n",
       "      <td>50</td>\n",
       "    </tr>\n",
       "    <tr>\n",
       "      <th>1</th>\n",
       "      <td>2001-01-01</td>\n",
       "      <td>WEAPONS VIOLATION</td>\n",
       "      <td>32</td>\n",
       "      <td>26</td>\n",
       "      <td>6</td>\n",
       "    </tr>\n",
       "    <tr>\n",
       "      <th>2</th>\n",
       "      <td>2001-01-01</td>\n",
       "      <td>DECEPTIVE PRACTICE</td>\n",
       "      <td>78</td>\n",
       "      <td>16</td>\n",
       "      <td>62</td>\n",
       "    </tr>\n",
       "    <tr>\n",
       "      <th>3</th>\n",
       "      <td>2001-01-01</td>\n",
       "      <td>CRIMINAL TRESPASS</td>\n",
       "      <td>29</td>\n",
       "      <td>17</td>\n",
       "      <td>12</td>\n",
       "    </tr>\n",
       "    <tr>\n",
       "      <th>4</th>\n",
       "      <td>2001-01-01</td>\n",
       "      <td>GAMBLING</td>\n",
       "      <td>2</td>\n",
       "      <td>2</td>\n",
       "      <td>0</td>\n",
       "    </tr>\n",
       "  </tbody>\n",
       "</table>\n",
       "</div>"
      ],
      "text/plain": [
       "         date         primary_type  crime_count  arrest_count  false_count\n",
       "0  2001-01-01  MOTOR VEHICLE THEFT           59             9           50\n",
       "1  2001-01-01    WEAPONS VIOLATION           32            26            6\n",
       "2  2001-01-01   DECEPTIVE PRACTICE           78            16           62\n",
       "3  2001-01-01    CRIMINAL TRESPASS           29            17           12\n",
       "4  2001-01-01             GAMBLING            2             2            0"
      ]
     },
     "execution_count": 8,
     "metadata": {},
     "output_type": "execute_result"
    }
   ],
   "source": [
    "df.head()"
   ]
  },
  {
   "cell_type": "code",
   "execution_count": 21,
   "id": "b178a11f",
   "metadata": {},
   "outputs": [],
   "source": [
    "df = df.rename(columns={\"date\":\"Data\",\"primary_type\":\"Tipo_Primario\",\"crime_count\":\"Contagem_Crimes\"\n",
    "                   ,\"arrest_count\":\"Contagem_Prisao\",\"false_count\":\"Contagem_Falsos\"})"
   ]
  },
  {
   "cell_type": "code",
   "execution_count": 36,
   "id": "01e0e7e9",
   "metadata": {},
   "outputs": [
    {
     "name": "stdout",
     "output_type": "stream",
     "text": [
      "<class 'pandas.core.frame.DataFrame'>\n",
      "RangeIndex: 141855 entries, 0 to 141854\n",
      "Data columns (total 5 columns):\n",
      " #   Column           Non-Null Count   Dtype         \n",
      "---  ------           --------------   -----         \n",
      " 0   Data             141855 non-null  datetime64[ns]\n",
      " 1   Tipo_Primario    141855 non-null  object        \n",
      " 2   Contagem_Crimes  141855 non-null  int64         \n",
      " 3   Contagem_Prisao  141855 non-null  int64         \n",
      " 4   Contagem_Falsos  141855 non-null  int64         \n",
      "dtypes: datetime64[ns](1), int64(3), object(1)\n",
      "memory usage: 5.4+ MB\n",
      "None\n"
     ]
    }
   ],
   "source": [
    "print(df.info())\n",
    "df[\"Data\"] = pd.to_datetime(df[\"Data\"])"
   ]
  },
  {
   "cell_type": "code",
   "execution_count": 38,
   "id": "95af3841",
   "metadata": {},
   "outputs": [
    {
     "data": {
      "text/plain": [
       "0    2001\n",
       "1    2001\n",
       "2    2001\n",
       "3    2001\n",
       "4    2001\n",
       "Name: Ano_Crime, dtype: int64"
      ]
     },
     "execution_count": 38,
     "metadata": {},
     "output_type": "execute_result"
    }
   ],
   "source": [
    "df[\"Ano_Crime\"] = df[\"Data\"].dt.year\n",
    "df[\"Ano_Crime\"].head()"
   ]
  },
  {
   "cell_type": "code",
   "execution_count": 62,
   "id": "8356df07",
   "metadata": {},
   "outputs": [
    {
     "name": "stderr",
     "output_type": "stream",
     "text": [
      "C:\\Users\\Rodrigo Correa\\AppData\\Local\\Temp\\ipykernel_14572\\3815537686.py:1: FutureWarning: Dropping of nuisance columns in DataFrame reductions (with 'numeric_only=None') is deprecated; in a future version this will raise TypeError.  Select only valid columns before calling the reduction.\n",
      "  df.loc[(df[\"Data\"].dt.year >= 2020)].sum()\n"
     ]
    },
    {
     "data": {
      "text/plain": [
       "Tipo_Primario      ASSAULTTHEFTOTHER OFFENSEROBBERYCRIMINAL SEXUA...\n",
       "Contagem_Crimes                                               446052\n",
       "Contagem_Prisao                                                70064\n",
       "Contagem_Falsos                                               375988\n",
       "Ano_Crime                                                   24549953\n",
       "dtype: object"
      ]
     },
     "execution_count": 62,
     "metadata": {},
     "output_type": "execute_result"
    }
   ],
   "source": [
    "df.loc[(df[\"Data\"].dt.year >= 2020)]"
   ]
  },
  {
   "cell_type": "code",
   "execution_count": null,
   "id": "cceb332a",
   "metadata": {},
   "outputs": [],
   "source": []
  }
 ],
 "metadata": {
  "kernelspec": {
   "display_name": "Python 3 (ipykernel)",
   "language": "python",
   "name": "python3"
  },
  "language_info": {
   "codemirror_mode": {
    "name": "ipython",
    "version": 3
   },
   "file_extension": ".py",
   "mimetype": "text/x-python",
   "name": "python",
   "nbconvert_exporter": "python",
   "pygments_lexer": "ipython3",
   "version": "3.9.12"
  }
 },
 "nbformat": 4,
 "nbformat_minor": 5
}
